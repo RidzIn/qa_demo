{
 "cells": [
  {
   "cell_type": "code",
   "execution_count": 15,
   "outputs": [],
   "source": [
    "from my_openai_api import *"
   ],
   "metadata": {
    "collapsed": false,
    "pycharm": {
     "name": "#%%\n"
    }
   }
  },
  {
   "cell_type": "code",
   "execution_count": 18,
   "outputs": [],
   "source": [
    "prompt = {'role': 'user', 'content': 'Can you generate 500 word test, with a lot of key words, and definition. So i can use it to generate question and answers. Let it be some computer Machine Learning Topic'}"
   ],
   "metadata": {
    "collapsed": false,
    "pycharm": {
     "name": "#%%\n"
    }
   }
  },
  {
   "cell_type": "code",
   "execution_count": 21,
   "outputs": [],
   "source": [
    "res = chat_completion_request([prompt])"
   ],
   "metadata": {
    "collapsed": false,
    "pycharm": {
     "name": "#%%\n"
    }
   }
  },
  {
   "cell_type": "code",
   "execution_count": 22,
   "outputs": [
    {
     "data": {
      "text/plain": "{'id': 'chatcmpl-7b9ABzZmTi0EoJEu0PMHKmacYuWrp',\n 'object': 'chat.completion',\n 'created': 1689087715,\n 'model': 'gpt-3.5-turbo-0613',\n 'choices': [{'index': 0,\n   'message': {'role': 'assistant',\n    'content': \"Sure! Here's a 500-word text on the topic of machine learning, including key terms and definitions:\\n\\nMachine Learning: A Field Revolutionizing Intelligent Systems\\n\\nMachine learning is a subfield of artificial intelligence (AI) that explores the development of algorithms and models that enable computer systems to learn and make predictions or decisions without explicit programming. It focuses on creating systems that can automatically improve their performance through experience.\\n\\nOne fundamental concept in machine learning is the algorithm. An algorithm refers to a predetermined sequence of steps designed to solve a problem or perform a specific task. In the context of machine learning, algorithms serve as the building blocks for models, enabling computers to learn patterns and make predictions. Commonly used algorithms include linear regression, decision trees, support vector machines, and neural networks.\\n\\nSupervised learning is a type of machine learning where a model is trained using labeled data. Labeled data contains input samples paired with their corresponding output or target values. The model learns to map inputs to outputs based on the labeled examples. This approach is useful for tasks such as image classification or spam detection, where the desired output is known.\\n\\nIn contrast, unsupervised learning involves training a model without labeled data. The objective is to discover patterns or structures in the input data without prior knowledge of the output. Clustering and dimensionality reduction are popular unsupervised learning techniques. Clustering groups similar data points together, while dimensionality reduction reduces the number of input features while preserving relevant information.\\n\\nReinforcement learning is another key branch of machine learning, focusing on decision-making processes. In reinforcement learning, an agent interacts with an environment to learn through trial and error. The agent receives feedback in the form of rewards or penalties based on its actions, allowing it to learn optimal strategies. This approach has been successfully applied to tasks like game playing or robot control.\\n\\nFeature extraction is a critical step in machine learning, as it involves transforming raw data into a more manageable and informative format. Features are the characteristics or attributes of the input data that are relevant for solving a particular problem. A feature extraction technique commonly used in natural language processing is the bag-of-words model, which represents a document as a collection of word occurrences.\\n\\nOverfitting and underfitting are two important concepts in machine learning model evaluation. Overfitting occurs when a model learns the training data too well, resulting in poor generalization to unseen data. This happens when the model is too complex or when there is insufficient training data. Underfitting, on the other hand, occurs when a model fails to capture the underlying patterns in the data. It typically happens when the model is too simple or lacks sufficient training.\\n\\nDeep learning is a subfield of machine learning that focuses on artificial neural networks (ANNs) with multiple layers, allowing them to model complex patterns and relationships. ANNs are inspired by the structure and function of the human brain and consist of interconnected artificial neurons. Deep learning has achieved impressive results in various domains, including image and speech recognition.\\n\\nIn conclusion, machine learning is a rapidly evolving field of AI that enables intelligent systems to learn and improve through experience. Understanding key concepts such as algorithms, supervised and unsupervised learning, reinforcement learning, feature extraction, overfitting, underfitting, and deep learning is essential for effectively applying machine learning techniques to solve real-world problems.\"},\n   'finish_reason': 'stop'}],\n 'usage': {'prompt_tokens': 44, 'completion_tokens': 668, 'total_tokens': 712}}"
     },
     "execution_count": 22,
     "metadata": {},
     "output_type": "execute_result"
    }
   ],
   "source": [
    "res.json()"
   ],
   "metadata": {
    "collapsed": false,
    "pycharm": {
     "name": "#%%\n"
    }
   }
  },
  {
   "cell_type": "code",
   "execution_count": null,
   "outputs": [],
   "source": [],
   "metadata": {
    "collapsed": false,
    "pycharm": {
     "name": "#%%\n"
    }
   }
  }
 ],
 "metadata": {
  "kernelspec": {
   "display_name": "Python 3",
   "language": "python",
   "name": "python3"
  },
  "language_info": {
   "codemirror_mode": {
    "name": "ipython",
    "version": 2
   },
   "file_extension": ".py",
   "mimetype": "text/x-python",
   "name": "python",
   "nbconvert_exporter": "python",
   "pygments_lexer": "ipython2",
   "version": "2.7.6"
  }
 },
 "nbformat": 4,
 "nbformat_minor": 0
}
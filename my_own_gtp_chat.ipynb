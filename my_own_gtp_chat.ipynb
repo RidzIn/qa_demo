{
 "cells": [
  {
   "cell_type": "code",
   "execution_count": 2,
   "outputs": [],
   "source": [
    "from my_openai_api import *"
   ],
   "metadata": {
    "collapsed": false,
    "pycharm": {
     "name": "#%%\n"
    }
   }
  },
  {
   "cell_type": "code",
   "execution_count": 3,
   "outputs": [],
   "source": [
    "prompt = {'role': 'user', 'content': 'Generate 500 word text. Topic: Machine Learning.'}"
   ],
   "metadata": {
    "collapsed": false,
    "pycharm": {
     "name": "#%%\n"
    }
   }
  },
  {
   "cell_type": "code",
   "execution_count": 4,
   "outputs": [],
   "source": [
    "res = chat_completion_request([prompt])"
   ],
   "metadata": {
    "collapsed": false,
    "pycharm": {
     "name": "#%%\n"
    }
   }
  },
  {
   "cell_type": "code",
   "execution_count": 5,
   "outputs": [
    {
     "data": {
      "text/plain": "{'id': 'chatcmpl-7bVD4Vs1CnJWKK1i62xUdCQN3mJaV',\n 'object': 'chat.completion',\n 'created': 1689172462,\n 'model': 'gpt-3.5-turbo-0613',\n 'choices': [{'index': 0,\n   'message': {'role': 'assistant',\n    'content': 'Machine learning is a rapidly growing field that is revolutionizing the way we solve complex problems and make decisions. It is a subfield of artificial intelligence that focuses on creating algorithms and models that can learn from and make predictions or decisions based on data. The applications of machine learning can be found in various domains, from healthcare to finance, transportation to entertainment.\\n\\nThe concept of machine learning is not new, but recent advancements in computing power, big data, and algorithm development have opened up new possibilities and accelerated its adoption. Traditional programming involves writing detailed instructions for a computer to follow, while machine learning allows computers to learn from data and improve performance automatically. This ability to learn from experience has made machine learning particularly effective in solving problems that are difficult to solve with traditional programming approaches.\\n\\nOne of the key components of machine learning is the training process. In this process, an algorithm is given a set of labeled data, known as the training data, and learns the underlying patterns and relationships in the data. The algorithm then uses this learned information to make predictions or decisions on new, unseen data. The performance of a machine learning model is evaluated based on its ability to generalize well on unseen data, known as the test data.\\n\\nMachine learning algorithms can be broadly categorized into supervised learning, unsupervised learning, and reinforcement learning. Supervised learning involves training a model using labeled data, where both input features and output labels are provided. The goal is to learn a mapping function that can predict the correct output labels for new, unseen inputs. In contrast, unsupervised learning involves training models on unlabeled data, and the algorithms aim to find patterns, group similar data points, or discover hidden structures in the data. Reinforcement learning, on the other hand, deals with an agent that learns to take actions in an environment to maximize a reward signal.\\n\\nThere are many techniques and algorithms used in machine learning, including decision trees, support vector machines, neural networks, and deep learning. These algorithms are designed to handle different types of data, such as numerical, categorical, or text data. They have their own strengths and weaknesses, and the choice of algorithm depends on the problem at hand and the available data.\\n\\nMachine learning has found numerous applications in various fields. In healthcare, it is used for disease diagnosis, drug discovery, and personalized treatment plans. In finance, machine learning algorithms are employed for fraud detection, risk assessment, and high-frequency trading. In transportation, it helps optimize traffic flow, manage fleets, and improve navigation systems. In entertainment, it powers recommendation systems, personalized content delivery, and game-playing AI.\\n\\nWhile machine learning has brought about many advancements, it is not without its challenges. One of the major challenges is the ethical use of machine learning algorithms. Bias in data, algorithmic decision-making, and privacy concerns are just a few of the ethical issues that need to be addressed. Additionally, machine learning models require large amounts of data, and gathering and labeling such datasets can be time-consuming and expensive. The interpretability of machine learning models is another challenge, as many of the complex models, such as deep neural networks, are often seen as black boxes.\\n\\nIn conclusion, machine learning is a powerful tool that has the potential to transform various industries and society as a whole. Its ability to learn from data and make predictions or decisions has opened up new possibilities for solving complex problems. However, there are challenges that need to be addressed, such as ethical considerations, data availability, and interpretability. As technology continues to advance, machine learning will undoubtedly play a crucial role in shaping our future.'},\n   'finish_reason': 'stop'}],\n 'usage': {'prompt_tokens': 18, 'completion_tokens': 716, 'total_tokens': 734}}"
     },
     "execution_count": 5,
     "metadata": {},
     "output_type": "execute_result"
    }
   ],
   "source": [
    "res.json()"
   ],
   "metadata": {
    "collapsed": false,
    "pycharm": {
     "name": "#%%\n"
    }
   }
  },
  {
   "cell_type": "code",
   "execution_count": 6,
   "outputs": [
    {
     "data": {
      "text/plain": "{'prompt_tokens': 18, 'completion_tokens': 716, 'total_tokens': 734}"
     },
     "execution_count": 6,
     "metadata": {},
     "output_type": "execute_result"
    }
   ],
   "source": [
    "get_token_usage(res)"
   ],
   "metadata": {
    "collapsed": false,
    "pycharm": {
     "name": "#%%\n"
    }
   }
  },
  {
   "cell_type": "code",
   "execution_count": 7,
   "outputs": [
    {
     "data": {
      "text/plain": "'Machine learning is a rapidly growing field that is revolutionizing the way we solve complex problems and make decisions. It is a subfield of artificial intelligence that focuses on creating algorithms and models that can learn from and make predictions or decisions based on data. The applications of machine learning can be found in various domains, from healthcare to finance, transportation to entertainment.\\n\\nThe concept of machine learning is not new, but recent advancements in computing power, big data, and algorithm development have opened up new possibilities and accelerated its adoption. Traditional programming involves writing detailed instructions for a computer to follow, while machine learning allows computers to learn from data and improve performance automatically. This ability to learn from experience has made machine learning particularly effective in solving problems that are difficult to solve with traditional programming approaches.\\n\\nOne of the key components of machine learning is the training process. In this process, an algorithm is given a set of labeled data, known as the training data, and learns the underlying patterns and relationships in the data. The algorithm then uses this learned information to make predictions or decisions on new, unseen data. The performance of a machine learning model is evaluated based on its ability to generalize well on unseen data, known as the test data.\\n\\nMachine learning algorithms can be broadly categorized into supervised learning, unsupervised learning, and reinforcement learning. Supervised learning involves training a model using labeled data, where both input features and output labels are provided. The goal is to learn a mapping function that can predict the correct output labels for new, unseen inputs. In contrast, unsupervised learning involves training models on unlabeled data, and the algorithms aim to find patterns, group similar data points, or discover hidden structures in the data. Reinforcement learning, on the other hand, deals with an agent that learns to take actions in an environment to maximize a reward signal.\\n\\nThere are many techniques and algorithms used in machine learning, including decision trees, support vector machines, neural networks, and deep learning. These algorithms are designed to handle different types of data, such as numerical, categorical, or text data. They have their own strengths and weaknesses, and the choice of algorithm depends on the problem at hand and the available data.\\n\\nMachine learning has found numerous applications in various fields. In healthcare, it is used for disease diagnosis, drug discovery, and personalized treatment plans. In finance, machine learning algorithms are employed for fraud detection, risk assessment, and high-frequency trading. In transportation, it helps optimize traffic flow, manage fleets, and improve navigation systems. In entertainment, it powers recommendation systems, personalized content delivery, and game-playing AI.\\n\\nWhile machine learning has brought about many advancements, it is not without its challenges. One of the major challenges is the ethical use of machine learning algorithms. Bias in data, algorithmic decision-making, and privacy concerns are just a few of the ethical issues that need to be addressed. Additionally, machine learning models require large amounts of data, and gathering and labeling such datasets can be time-consuming and expensive. The interpretability of machine learning models is another challenge, as many of the complex models, such as deep neural networks, are often seen as black boxes.\\n\\nIn conclusion, machine learning is a powerful tool that has the potential to transform various industries and society as a whole. Its ability to learn from data and make predictions or decisions has opened up new possibilities for solving complex problems. However, there are challenges that need to be addressed, such as ethical considerations, data availability, and interpretability. As technology continues to advance, machine learning will undoubtedly play a crucial role in shaping our future.'"
     },
     "execution_count": 7,
     "metadata": {},
     "output_type": "execute_result"
    }
   ],
   "source": [
    "get_message_from_response(res)"
   ],
   "metadata": {
    "collapsed": false,
    "pycharm": {
     "name": "#%%\n"
    }
   }
  },
  {
   "cell_type": "code",
   "execution_count": 9,
   "outputs": [],
   "source": [
    "save_message_to_log(get_message_from_response(res))"
   ],
   "metadata": {
    "collapsed": false,
    "pycharm": {
     "name": "#%%\n"
    }
   }
  },
  {
   "cell_type": "code",
   "execution_count": null,
   "outputs": [],
   "source": [
    "qa_prompt = [{'role': 'system', 'content': \"User will provide you with knowledge base. Your task: generate json dictionary with format {'question': 'answer'}. USE ONLY provided knowledge base, you don't know anything except that knowledge base. Try to avoid rephrasing if it's possible. \"},{'role':'user', 'content': read_file('logs/12-07-2023_16-35-30.txt')}]"
   ],
   "metadata": {
    "collapsed": false,
    "pycharm": {
     "name": "#%%\n"
    }
   }
  }
 ],
 "metadata": {
  "kernelspec": {
   "display_name": "Python 3",
   "language": "python",
   "name": "python3"
  },
  "language_info": {
   "codemirror_mode": {
    "name": "ipython",
    "version": 2
   },
   "file_extension": ".py",
   "mimetype": "text/x-python",
   "name": "python",
   "nbconvert_exporter": "python",
   "pygments_lexer": "ipython2",
   "version": "2.7.6"
  }
 },
 "nbformat": 4,
 "nbformat_minor": 0
}